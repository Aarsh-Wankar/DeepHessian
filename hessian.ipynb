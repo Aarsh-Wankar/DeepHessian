{
 "cells": [
  {
   "cell_type": "code",
   "execution_count": 21,
   "metadata": {},
   "outputs": [],
   "source": [
    "from PyHessian.pyhessian.hessian import hessian\n",
    "from PyHessian.density_plot import get_esd_plot\n",
    "import torch\n",
    "import torch.nn as nn\n",
    "import numpy as np\n",
    "from torchvision import datasets, transforms\n",
    "# from keras.datasets import mnist\n",
    "import matplotlib.pyplot as plt \n",
    "import time"
   ]
  },
  {
   "cell_type": "code",
   "execution_count": 22,
   "metadata": {},
   "outputs": [],
   "source": [
    "device = torch.device(\"cuda\") if torch.cuda.is_available() else torch.device(\"cpu\")"
   ]
  },
  {
   "cell_type": "code",
   "execution_count": 23,
   "metadata": {},
   "outputs": [
    {
     "name": "stdout",
     "output_type": "stream",
     "text": [
      "Files already downloaded and verified\n",
      "Files already downloaded and verified\n"
     ]
    },
    {
     "data": {
      "text/plain": [
       "<torch._C.Generator at 0x26cd96c53d0>"
      ]
     },
     "execution_count": 23,
     "metadata": {},
     "output_type": "execute_result"
    }
   ],
   "source": [
    "mnist_trainset = datasets.MNIST(root='./data/mnist', train=True, download=True, transform=transforms.ToTensor())\n",
    "mnist_fashion_trainset = datasets.FashionMNIST(root='./data/fashion_mnist', train=True, download=True, transform=transforms.ToTensor())\n",
    "cifar_trainset = datasets.CIFAR10(root='./data/cifar10', train=True, download=True, transform=transforms.ToTensor())\n",
    "# Getting mnist test data\n",
    "mnist_testset = datasets.MNIST(root='./data/mnist', train=False, download=True, transform=transforms.ToTensor())\n",
    "mnist_fashion_testset = datasets.FashionMNIST(root='./data/fashion_mnist', train=False, download=True, transform=transforms.ToTensor())\n",
    "cifar_testset = datasets.CIFAR10(root='./data/cifar10', train=False, download=True, transform=transforms.ToTensor())\n",
    "\n",
    "torch.manual_seed(42)"
   ]
  },
  {
   "cell_type": "code",
   "execution_count": 24,
   "metadata": {},
   "outputs": [],
   "source": [
    "train_X = mnist_trainset.data\n",
    "train_y = mnist_trainset.targets\n",
    "test_X = mnist_testset.data\n",
    "test_y = mnist_testset.targets"
   ]
  },
  {
   "cell_type": "code",
   "execution_count": 25,
   "metadata": {},
   "outputs": [],
   "source": [
    "class Net(nn.Module):\n",
    "    def __init__(self):\n",
    "        super(Net, self).__init__()\n",
    "        self.conv = nn.Sequential(\n",
    "            nn.Conv2d(1, 10, kernel_size=3),\n",
    "            nn.ReLU(),\n",
    "            nn.MaxPool2d(2),\n",
    "            nn.Conv2d(10, 20, kernel_size=3),\n",
    "            nn.ReLU(),\n",
    "            nn.MaxPool2d(2),\n",
    "        )\n",
    "        self.fc = nn.Sequential(\n",
    "            nn.Linear(20*5*5, 20),\n",
    "            nn.ReLU(),\n",
    "            nn.Linear(20, 10)\n",
    "        )\n",
    "\n",
    "    def forward(self, x):\n",
    "        x = self.conv(x)\n",
    "        x = x.view(-1, 5*5*20)\n",
    "        x = self.fc(x)\n",
    "        return x"
   ]
  },
  {
   "cell_type": "code",
   "execution_count": 26,
   "metadata": {},
   "outputs": [
    {
     "name": "stderr",
     "output_type": "stream",
     "text": [
      "C:\\Users\\Rajeev Wankar\\AppData\\Local\\Temp\\ipykernel_24344\\3907697704.py:1: UserWarning: To copy construct from a tensor, it is recommended to use sourceTensor.clone().detach() or sourceTensor.clone().detach().requires_grad_(True), rather than torch.tensor(sourceTensor).\n",
      "  train_X = (torch.tensor(train_X, dtype=torch.float32)/255).unsqueeze(1).to(device)\n",
      "C:\\Users\\Rajeev Wankar\\AppData\\Local\\Temp\\ipykernel_24344\\3907697704.py:2: UserWarning: To copy construct from a tensor, it is recommended to use sourceTensor.clone().detach() or sourceTensor.clone().detach().requires_grad_(True), rather than torch.tensor(sourceTensor).\n",
      "  test_X = (torch.tensor(test_X, dtype=torch.float32)/255).unsqueeze(1).to(device)\n",
      "C:\\Users\\Rajeev Wankar\\AppData\\Local\\Temp\\ipykernel_24344\\3907697704.py:3: UserWarning: To copy construct from a tensor, it is recommended to use sourceTensor.clone().detach() or sourceTensor.clone().detach().requires_grad_(True), rather than torch.tensor(sourceTensor).\n",
      "  train_y = (torch.tensor(train_y, dtype=torch.int64)).to(device)\n",
      "C:\\Users\\Rajeev Wankar\\AppData\\Local\\Temp\\ipykernel_24344\\3907697704.py:4: UserWarning: To copy construct from a tensor, it is recommended to use sourceTensor.clone().detach() or sourceTensor.clone().detach().requires_grad_(True), rather than torch.tensor(sourceTensor).\n",
      "  test_y = (torch.tensor(test_y, dtype=torch.int64)).to(device)\n"
     ]
    }
   ],
   "source": [
    "train_X = (torch.tensor(train_X, dtype=torch.float32)/255).unsqueeze(1).to(device)\n",
    "test_X = (torch.tensor(test_X, dtype=torch.float32)/255).unsqueeze(1).to(device)\n",
    "train_y = (torch.tensor(train_y, dtype=torch.int64)).to(device)\n",
    "test_y = (torch.tensor(test_y, dtype=torch.int64)).to(device)\n",
    "val_x = train_X[:1000]\n",
    "val_y = train_y[:1000]"
   ]
  },
  {
   "cell_type": "code",
   "execution_count": 27,
   "metadata": {},
   "outputs": [],
   "source": [
    "dataloader = torch.utils.data.DataLoader(\n",
    "    torch.utils.data.TensorDataset(train_X, train_y),\n",
    "    batch_size=64, shuffle=True)\n",
    "model = Net().to(device)\n",
    "criterion = nn.CrossEntropyLoss()\n",
    "optimizer = torch.optim.Adam(model.parameters(), lr=0.001)"
   ]
  },
  {
   "cell_type": "code",
   "execution_count": 28,
   "metadata": {},
   "outputs": [
    {
     "name": "stdout",
     "output_type": "stream",
     "text": [
      "Epoch 0, step 0, train_loss 2.3433547019958496, test_loss 2.3143131732940674\n",
      "Epoch 0, step 500, train_loss 0.3054021894931793, test_loss 0.29175546765327454\n",
      "Epoch 1, step 0, train_loss 0.15256986021995544, test_loss 0.16762997210025787\n",
      "Epoch 1, step 500, train_loss 0.12648579478263855, test_loss 0.11699923127889633\n",
      "Epoch 2, step 0, train_loss 0.09401443600654602, test_loss 0.10534048080444336\n",
      "Epoch 2, step 500, train_loss 0.047315482050180435, test_loss 0.09305573254823685\n",
      "Epoch 3, step 0, train_loss 0.09606461971998215, test_loss 0.07953876256942749\n",
      "Epoch 3, step 500, train_loss 0.04938655346632004, test_loss 0.07408822327852249\n",
      "Epoch 4, step 0, train_loss 0.16736598312854767, test_loss 0.07572384178638458\n",
      "Epoch 4, step 500, train_loss 0.04333855211734772, test_loss 0.06507989764213562\n",
      "Epoch 5, step 0, train_loss 0.06304050236940384, test_loss 0.0665726587176323\n",
      "Epoch 5, step 500, train_loss 0.03946861997246742, test_loss 0.06160179525613785\n",
      "Epoch 6, step 0, train_loss 0.016586560755968094, test_loss 0.05624106898903847\n",
      "Epoch 6, step 500, train_loss 0.19016043841838837, test_loss 0.05808458849787712\n",
      "Epoch 7, step 0, train_loss 0.01682247593998909, test_loss 0.06515287607908249\n",
      "Epoch 7, step 500, train_loss 0.04603331908583641, test_loss 0.05284600704908371\n",
      "Epoch 8, step 0, train_loss 0.08269591629505157, test_loss 0.05338353291153908\n",
      "Epoch 8, step 500, train_loss 0.05910081788897514, test_loss 0.06348687410354614\n",
      "Epoch 9, step 0, train_loss 0.0078053162433207035, test_loss 0.05696916952729225\n",
      "Epoch 9, step 500, train_loss 0.009359634481370449, test_loss 0.050627414137125015\n"
     ]
    }
   ],
   "source": [
    "losses = []\n",
    "test_losses = []\n",
    "train_losses = []\n",
    "for epoch in range(10):\n",
    "    for i, (data, target) in enumerate(dataloader):\n",
    "        optimizer.zero_grad()\n",
    "        output = model(data)\n",
    "        #output_test = model(test_X)\n",
    "        loss = criterion(output, target)\n",
    "        # loss_test = criterion(output_test, test_y)\n",
    "        loss.backward()\n",
    "        optimizer.step()\n",
    "        losses.append(loss.item())\n",
    "        if i % 500 == 0:\n",
    "            output = model(val_x)\n",
    "            loss_train = criterion(output, val_y)\n",
    "            output = model(test_X)\n",
    "            loss_test = criterion(output, test_y)\n",
    "            print(f\"Epoch {epoch}, step {i}, train_loss {loss.item()}, test_loss {loss_test.item()}\")\n",
    "            test_losses.append(loss_test.item())\n",
    "            train_losses.append(loss_train.item())\n",
    "    #print(loss.item())"
   ]
  },
  {
   "cell_type": "code",
   "execution_count": 29,
   "metadata": {},
   "outputs": [
    {
     "name": "stdout",
     "output_type": "stream",
     "text": [
      "Test accuracy: 0.9851\n"
     ]
    }
   ],
   "source": [
    "# Calculate test accuracy\n",
    "output = model(test_X)\n",
    "_, predicted = torch.max(output, 1)\n",
    "correct = (predicted == test_y).sum().item()\n",
    "accuracy = correct / test_y.size(0)\n",
    "print(f\"Test accuracy: {accuracy}\")"
   ]
  },
  {
   "cell_type": "code",
   "execution_count": 30,
   "metadata": {},
   "outputs": [
    {
     "data": {
      "image/png": "[encoded data removed]",
      "text/plain": [
       "<Figure size 640x480 with 1 Axes>"
      ]
     },
     "metadata": {},
     "output_type": "display_data"
    }
   ],
   "source": [
    "%matplotlib inline\n",
    "plt.plot(losses)\n",
    "plt.show()"
   ]
  },
  {
   "cell_type": "code",
   "execution_count": 31,
   "metadata": {},
   "outputs": [
    {
     "data": {
      "image/png": "[encoded data removed]",
      "text/plain": [
       "<Figure size 640x480 with 1 Axes>"
      ]
     },
     "metadata": {},
     "output_type": "display_data"
    }
   ],
   "source": [
    "plt.plot(test_losses)\n",
    "plt.plot(train_losses)\n",
    "plt.show()"
   ]
  },
  {
   "cell_type": "code",
   "execution_count": 32,
   "metadata": {},
   "outputs": [],
   "source": [
    "#hessian_comp = hessian(model, criterion, data=(train_X, train_y), cuda=False)"
   ]
  },
  {
   "cell_type": "code",
   "execution_count": 33,
   "metadata": {},
   "outputs": [],
   "source": [
    "# trace = hessian_comp.trace()\n",
    "# print(\"The trace of this model is: %.4f\"%(np.mean(trace)))"
   ]
  },
  {
   "cell_type": "code",
   "execution_count": 34,
   "metadata": {},
   "outputs": [],
   "source": [
    "# top_eigenvalues, top_eigenvector = hessian_comp.eigenvalues(top_n=20)\n",
    "# print(\"The top two eigenvalues of this model are: \", top_eigenvalues)"
   ]
  },
  {
   "cell_type": "code",
   "execution_count": 35,
   "metadata": {},
   "outputs": [],
   "source": [
    "# t0 = time.time()\n",
    "# density_eigen, density_weight = hessian_comp.density()\n",
    "# print(\"Obtained eigendensities and eigenweights in %.2f seconds\"%(time.time()-t0))\n",
    "# get_esd_plot(density_eigen, density_weight)"
   ]
  }
 ],
 "metadata": {
  "kernelspec": {
   "display_name": "deephessian",
   "language": "python",
   "name": "python3"
  },
  "language_info": {
   "codemirror_mode": {
    "name": "ipython",
    "version": 3
   },
   "file_extension": ".py",
   "mimetype": "text/x-python",
   "name": "python",
   "nbconvert_exporter": "python",
   "pygments_lexer": "ipython3",
   "version": "3.12.8"
  }
 },
 "nbformat": 4,
 "nbformat_minor": 2
}
